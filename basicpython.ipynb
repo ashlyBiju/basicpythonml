{
  "nbformat": 4,
  "nbformat_minor": 0,
  "metadata": {
    "colab": {
      "provenance": [],
      "authorship_tag": "ABX9TyMwQtHfVFDaSS70cBzuuXWR",
      "include_colab_link": true
    },
    "kernelspec": {
      "name": "python3",
      "display_name": "Python 3"
    },
    "language_info": {
      "name": "python"
    }
  },
  "cells": [
    {
      "cell_type": "markdown",
      "metadata": {
        "id": "view-in-github",
        "colab_type": "text"
      },
      "source": [
        "<a href=\"https://colab.research.google.com/github/ashlyBiju/basicpythonml/blob/main/basicpython.ipynb\" target=\"_parent\"><img src=\"https://colab.research.google.com/assets/colab-badge.svg\" alt=\"Open In Colab\"/></a>"
      ]
    },
    {
      "cell_type": "markdown",
      "source": [
        "# Introduction to `Python`\n",
        "\n",
        "First Program displays a hello "
      ],
      "metadata": {
        "id": "6rh7JOc0vnqM"
      }
    },
    {
      "cell_type": "code",
      "source": [
        "a=10\n",
        "print(\"The value of variable a is \",a)"
      ],
      "metadata": {
        "colab": {
          "base_uri": "https://localhost:8080/"
        },
        "id": "fN-OihgexUck",
        "outputId": "293d605e-15f1-475a-d335-566ac1bb0df8"
      },
      "execution_count": 2,
      "outputs": [
        {
          "output_type": "stream",
          "name": "stdout",
          "text": [
            "The value of variable a is  10\n"
          ]
        }
      ]
    },
    {
      "cell_type": "markdown",
      "source": [
        ">Program to assign an integer and display it\n"
      ],
      "metadata": {
        "id": "ZmnMr4nQxzie"
      }
    },
    {
      "cell_type": "code",
      "source": [],
      "metadata": {
        "id": "Hsb4uHBsyDd7"
      },
      "execution_count": null,
      "outputs": []
    },
    {
      "cell_type": "markdown",
      "source": [
        "Program to find sum of two numbers\n"
      ],
      "metadata": {
        "id": "pgKIGDLOyIK-"
      }
    },
    {
      "cell_type": "code",
      "source": [
        "a=10\n",
        "b=15\n",
        "sum =a+b\n",
        "print(\"The sum is \",sum)"
      ],
      "metadata": {
        "colab": {
          "base_uri": "https://localhost:8080/"
        },
        "id": "1uKq5EksyOUL",
        "outputId": "3fed140c-1fed-44cb-9520-7d578b1747d8"
      },
      "execution_count": 3,
      "outputs": [
        {
          "output_type": "stream",
          "name": "stdout",
          "text": [
            "The sum is  25\n"
          ]
        }
      ]
    },
    {
      "cell_type": "code",
      "source": [
        "print(\"hello\")"
      ],
      "metadata": {
        "colab": {
          "base_uri": "https://localhost:8080/"
        },
        "id": "oTjgiuoxwXv1",
        "outputId": "1a9807c2-ca43-4c36-ce3b-367ccbb8f98c"
      },
      "execution_count": 1,
      "outputs": [
        {
          "output_type": "stream",
          "name": "stdout",
          "text": [
            "hello\n"
          ]
        }
      ]
    },
    {
      "cell_type": "markdown",
      "source": [
        "Read two from the user and find the sum "
      ],
      "metadata": {
        "id": "CfsD8P12yzSm"
      }
    },
    {
      "cell_type": "code",
      "source": [
        "a=input(\"Enter the first number\")\n",
        "b=input(\"Enter the second number\")"
      ],
      "metadata": {
        "colab": {
          "base_uri": "https://localhost:8080/"
        },
        "id": "OIoKl-xHy7YE",
        "outputId": "020e0886-68c8-43cc-f0a8-7d6f4ffd7ac5"
      },
      "execution_count": 4,
      "outputs": [
        {
          "name": "stdout",
          "output_type": "stream",
          "text": [
            "Enter the first number15\n",
            "Enter the second number5\n"
          ]
        }
      ]
    },
    {
      "cell_type": "code",
      "source": [
        "a=input(\"Enter the first number\")\n",
        "b=input(\"Enter the second number\")\n",
        "print(a)  # prints the value of a\n",
        "print(b)  # prints the value of b"
      ],
      "metadata": {
        "colab": {
          "base_uri": "https://localhost:8080/"
        },
        "id": "KA9Ch9lizlGM",
        "outputId": "c43080ce-038e-426f-cb7f-25e86ef37717"
      },
      "execution_count": 6,
      "outputs": [
        {
          "output_type": "stream",
          "name": "stdout",
          "text": [
            "Enter the first number15\n",
            "Enter the second number12\n",
            "15\n",
            "12\n"
          ]
        }
      ]
    },
    {
      "cell_type": "markdown",
      "source": [
        "# Displaying the Sum"
      ],
      "metadata": {
        "id": "g9zoW-dg0szU"
      }
    },
    {
      "cell_type": "code",
      "source": [
        "a= int(input(\"Enter the first number\"))         #here input function read values as strings.int()cast it as integer\n",
        "b= int (input(\"Enter the second number\"))\n",
        "sum=a+b\n",
        "print(sum)"
      ],
      "metadata": {
        "colab": {
          "base_uri": "https://localhost:8080/"
        },
        "id": "xD6R3pXf0Q5V",
        "outputId": "a86c9d2c-2c8b-439b-cf3c-d6e9ab7e79f5"
      },
      "execution_count": 9,
      "outputs": [
        {
          "output_type": "stream",
          "name": "stdout",
          "text": [
            "Enter the first number10\n",
            "Enter the second number15\n",
            "25\n"
          ]
        }
      ]
    }
  ]
}