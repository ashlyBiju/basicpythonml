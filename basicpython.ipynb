{
  "nbformat": 4,
  "nbformat_minor": 0,
  "metadata": {
    "colab": {
      "provenance": [],
      "authorship_tag": "ABX9TyMWYcJg/ribemKeaMRMgdZO",
      "include_colab_link": true
    },
    "kernelspec": {
      "name": "python3",
      "display_name": "Python 3"
    },
    "language_info": {
      "name": "python"
    }
  },
  "cells": [
    {
      "cell_type": "markdown",
      "metadata": {
        "id": "view-in-github",
        "colab_type": "text"
      },
      "source": [
        "<a href=\"https://colab.research.google.com/github/ashlyBiju/basicpythonml/blob/main/basicpython.ipynb\" target=\"_parent\"><img src=\"https://colab.research.google.com/assets/colab-badge.svg\" alt=\"Open In Colab\"/></a>"
      ]
    },
    {
      "cell_type": "markdown",
      "source": [
        "# Introduction to `Python`\n",
        "\n",
        "First Program displays a hello "
      ],
      "metadata": {
        "id": "6rh7JOc0vnqM"
      }
    },
    {
      "cell_type": "code",
      "source": [
        "a=10\n",
        "print(\"The value of variable a is \",a)"
      ],
      "metadata": {
        "colab": {
          "base_uri": "https://localhost:8080/"
        },
        "id": "fN-OihgexUck",
        "outputId": "293d605e-15f1-475a-d335-566ac1bb0df8"
      },
      "execution_count": null,
      "outputs": [
        {
          "output_type": "stream",
          "name": "stdout",
          "text": [
            "The value of variable a is  10\n"
          ]
        }
      ]
    },
    {
      "cell_type": "markdown",
      "source": [
        ">Program to assign an integer and display it\n"
      ],
      "metadata": {
        "id": "ZmnMr4nQxzie"
      }
    },
    {
      "cell_type": "code",
      "source": [],
      "metadata": {
        "id": "Hsb4uHBsyDd7"
      },
      "execution_count": null,
      "outputs": []
    },
    {
      "cell_type": "markdown",
      "source": [
        "Program to find sum of two numbers\n"
      ],
      "metadata": {
        "id": "pgKIGDLOyIK-"
      }
    },
    {
      "cell_type": "code",
      "source": [
        "a=10\n",
        "b=15\n",
        "sum =a+b\n",
        "print(\"The sum is \",sum)"
      ],
      "metadata": {
        "colab": {
          "base_uri": "https://localhost:8080/"
        },
        "id": "1uKq5EksyOUL",
        "outputId": "3fed140c-1fed-44cb-9520-7d578b1747d8"
      },
      "execution_count": null,
      "outputs": [
        {
          "output_type": "stream",
          "name": "stdout",
          "text": [
            "The sum is  25\n"
          ]
        }
      ]
    },
    {
      "cell_type": "code",
      "source": [
        "print(\"hello\")"
      ],
      "metadata": {
        "colab": {
          "base_uri": "https://localhost:8080/"
        },
        "id": "oTjgiuoxwXv1",
        "outputId": "1a9807c2-ca43-4c36-ce3b-367ccbb8f98c"
      },
      "execution_count": null,
      "outputs": [
        {
          "output_type": "stream",
          "name": "stdout",
          "text": [
            "hello\n"
          ]
        }
      ]
    },
    {
      "cell_type": "markdown",
      "source": [
        "Read two from the user and find the sum "
      ],
      "metadata": {
        "id": "CfsD8P12yzSm"
      }
    },
    {
      "cell_type": "code",
      "source": [
        "a=input(\"Enter the first number\")\n",
        "b=input(\"Enter the second number\")"
      ],
      "metadata": {
        "colab": {
          "base_uri": "https://localhost:8080/"
        },
        "id": "OIoKl-xHy7YE",
        "outputId": "020e0886-68c8-43cc-f0a8-7d6f4ffd7ac5"
      },
      "execution_count": null,
      "outputs": [
        {
          "name": "stdout",
          "output_type": "stream",
          "text": [
            "Enter the first number15\n",
            "Enter the second number5\n"
          ]
        }
      ]
    },
    {
      "cell_type": "code",
      "source": [
        "a=input(\"Enter the first number\")\n",
        "b=input(\"Enter the second number\")\n",
        "print(a)  # prints the value of a\n",
        "print(b)  # prints the value of b"
      ],
      "metadata": {
        "colab": {
          "base_uri": "https://localhost:8080/"
        },
        "id": "KA9Ch9lizlGM",
        "outputId": "c43080ce-038e-426f-cb7f-25e86ef37717"
      },
      "execution_count": null,
      "outputs": [
        {
          "output_type": "stream",
          "name": "stdout",
          "text": [
            "Enter the first number15\n",
            "Enter the second number12\n",
            "15\n",
            "12\n"
          ]
        }
      ]
    },
    {
      "cell_type": "markdown",
      "source": [
        "# Displaying the Sum"
      ],
      "metadata": {
        "id": "g9zoW-dg0szU"
      }
    },
    {
      "cell_type": "code",
      "source": [
        "a= int(input(\"Enter the first number\"))         #here input function read values as strings.int()cast it as integer\n",
        "b= int (input(\"Enter the second number\"))\n",
        "sum=a+b\n",
        "print(sum)"
      ],
      "metadata": {
        "colab": {
          "base_uri": "https://localhost:8080/"
        },
        "id": "xD6R3pXf0Q5V",
        "outputId": "a86c9d2c-2c8b-439b-cf3c-d6e9ab7e79f5"
      },
      "execution_count": null,
      "outputs": [
        {
          "output_type": "stream",
          "name": "stdout",
          "text": [
            "Enter the first number10\n",
            "Enter the second number15\n",
            "25\n"
          ]
        }
      ]
    },
    {
      "cell_type": "markdown",
      "source": [
        "#Variables"
      ],
      "metadata": {
        "id": "J9KKNTgzRWkZ"
      }
    },
    {
      "cell_type": "code",
      "source": [
        "#defining a variable in python there is no need  to mention data type\n",
        "a=10 # an integer assignment \n",
        "b=5.26 # a floating pint assignment\n",
        "c=\"HEllo\" # a string\n",
        "print(a,'',b,'',c) # single quotes is read as white space"
      ],
      "metadata": {
        "colab": {
          "base_uri": "https://localhost:8080/"
        },
        "id": "8HJsXSllRdPw",
        "outputId": "5671c87d-872f-4f72-cff2-7c093a85237e"
      },
      "execution_count": null,
      "outputs": [
        {
          "output_type": "stream",
          "name": "stdout",
          "text": [
            "10  5.26  HEllo\n"
          ]
        }
      ]
    },
    {
      "cell_type": "markdown",
      "source": [
        "# Assignment"
      ],
      "metadata": {
        "id": "EjgWu6S1Sdam"
      }
    },
    {
      "cell_type": "code",
      "source": [
        "a=b=c=15 # assigning same values to multiple varaiables\n",
        "print(a,'',b,'',c)"
      ],
      "metadata": {
        "colab": {
          "base_uri": "https://localhost:8080/"
        },
        "id": "ZCAhLibwShp9",
        "outputId": "2b5c0ac6-631d-4f00-c837-d2d74787db9b"
      },
      "execution_count": null,
      "outputs": [
        {
          "output_type": "stream",
          "name": "stdout",
          "text": [
            "15  15  15\n"
          ]
        }
      ]
    },
    {
      "cell_type": "code",
      "source": [
        "a,b,c=15,3.14,\"hello\" #assigning different values to variable in single expression\n",
        "print(a,'',b,'',c)"
      ],
      "metadata": {
        "colab": {
          "base_uri": "https://localhost:8080/"
        },
        "id": "yOQUIhSXS9eR",
        "outputId": "09efba99-8e5f-47dd-8ee3-59d1998449a0"
      },
      "execution_count": null,
      "outputs": [
        {
          "output_type": "stream",
          "name": "stdout",
          "text": [
            "15  3.14  hello\n"
          ]
        }
      ]
    },
    {
      "cell_type": "markdown",
      "source": [
        "# Slicing"
      ],
      "metadata": {
        "id": "Ig3Vx-F7TmKo"
      }
    },
    {
      "cell_type": "code",
      "source": [
        "# String operations\n",
        "string=\"Hello\" # a string\n",
        "print(string) # prints complete string\n",
        "print(string[0]) # prints first character of the string\n",
        "print(string[2:5]) # prints characters starting from 3rd to 5th element\n",
        "print(string [2:]) # prints string starting from 3rd character\n",
        "print(string [:2]) # prints string till 3rd character\n",
        "print(string*2) # prints string two times\n",
        "print(string+\"World\") # prints concatenated strings"
      ],
      "metadata": {
        "colab": {
          "base_uri": "https://localhost:8080/"
        },
        "id": "GhPS6eJhTrfQ",
        "outputId": "ae03410b-761f-4cbc-d8da-cb4e0bcf68b4"
      },
      "execution_count": null,
      "outputs": [
        {
          "output_type": "stream",
          "name": "stdout",
          "text": [
            "Hello\n",
            "H\n",
            "llo\n",
            "llo\n",
            "He\n",
            "HelloHello\n",
            "HelloWorld\n"
          ]
        }
      ]
    },
    {
      "cell_type": "markdown",
      "source": [
        "# Data Types"
      ],
      "metadata": {
        "id": "58EamHDVZq4a"
      }
    },
    {
      "cell_type": "code",
      "source": [
        "# python lists\n",
        "list=['abcd',527,2.32,\"ashly\",9530.47] #  a list\n",
        "tuple=[\"abcd\",527,2.32,\"ashly\",9530.47] # a tuple  tuples are immutable ie cannot edit later\n",
        "print(list) # prints complete list\n",
        "print(list[0]) # prints first element of list\n",
        "print(tuple[1:3]) # prints elements startting from 2nd till 3rd\n",
        "\n"
      ],
      "metadata": {
        "colab": {
          "base_uri": "https://localhost:8080/"
        },
        "id": "gybYUjtpZuE2",
        "outputId": "90785704-af19-497d-87d6-29f7408e7fdc"
      },
      "execution_count": null,
      "outputs": [
        {
          "output_type": "stream",
          "name": "stdout",
          "text": [
            "['abcd', 527, 2.32, 'ashly', 9530.47]\n",
            "abcd\n",
            "[527, 2.32]\n"
          ]
        }
      ]
    },
    {
      "cell_type": "code",
      "source": [
        "tel={\"jack\" : 4098,\"sape\" : 4139} \n",
        "tel[\"guido\"]=2174 # seperately allocating value to new member\n",
        "print(tel)\n",
        "print(tel['jack']) #prints the value assosiated to jack\n",
        "print(tel['guido'])\n",
        "del tel['sape'] # deletes sape and the value asosiated with it\n",
        "print(tel)\n",
        "tel['irv']=4127\n",
        "print(tel)\n",
        "print(tel.keys()) # prints  only the strings the are known as keys\n",
        "print(sorted(tel.keys())) # prints in sorted order\n",
        "print(sorted(tel.values())) # prints the values in sorted order (increasing order)\n",
        "print('guido'in tel) # returns boolean whether the given string is in the dictionary\n",
        "print('jack'not in tel) # returns boolean whether the given string is not in the dictionary"
      ],
      "metadata": {
        "colab": {
          "base_uri": "https://localhost:8080/"
        },
        "id": "jFnSjwJmEH5S",
        "outputId": "6ac39e13-f510-4ccb-cdbd-ae41ed6810be"
      },
      "execution_count": 13,
      "outputs": [
        {
          "output_type": "stream",
          "name": "stdout",
          "text": [
            "{'jack': 4098, 'sape': 4139, 'guido': 2174}\n",
            "4098\n",
            "2174\n",
            "{'jack': 4098, 'guido': 2174}\n",
            "{'jack': 4098, 'guido': 2174, 'irv': 4127}\n",
            "dict_keys(['jack', 'guido', 'irv'])\n",
            "['guido', 'irv', 'jack']\n",
            "[2174, 4098, 4127]\n",
            "True\n",
            "False\n"
          ]
        }
      ]
    },
    {
      "cell_type": "markdown",
      "source": [
        "# Conditioning and looping"
      ],
      "metadata": {
        "id": "ffU98yXiH-vY"
      }
    },
    {
      "cell_type": "code",
      "source": [
        "for i in range(0,10): # loops from 0 to 9\n",
        "    if i%2==0:\n",
        "        print(\"Square of \" ,i, \"is:\",i*i)\n",
        "\n",
        "    else:\n",
        "        print(i,\"is an odd number\")"
      ],
      "metadata": {
        "colab": {
          "base_uri": "https://localhost:8080/"
        },
        "id": "wYeoxM6KIGF8",
        "outputId": "9b188f30-2579-4f51-f1e0-fabd3f96e659"
      },
      "execution_count": 15,
      "outputs": [
        {
          "output_type": "stream",
          "name": "stdout",
          "text": [
            "Square of  0 is: 0\n",
            "1 is an odd number\n",
            "Square of  2 is: 4\n",
            "3 is an odd number\n",
            "Square of  4 is: 16\n",
            "5 is an odd number\n",
            "Square of  6 is: 36\n",
            "7 is an odd number\n",
            "Square of  8 is: 64\n",
            "9 is an odd number\n"
          ]
        }
      ]
    },
    {
      "cell_type": "markdown",
      "source": [
        "# Built in functions"
      ],
      "metadata": {
        "id": "bP3gFQGCJatD"
      }
    },
    {
      "cell_type": "code",
      "source": [
        "print(\"sum of array:\",sum([1,2,3,4])) # calculates sum of the array\n",
        "print(\"length of array:\",len([1,2,3,4])) # claculates the length of the array\n",
        "print(\"Absolute value:\",abs(-1234)) # returns the absolute value\n",
        "print(\"round value:\",round(1.2234))\n",
        "\n",
        "import math as mt  #importing a package\n",
        "print(\"Log value:\",mt.log(10))"
      ],
      "metadata": {
        "colab": {
          "base_uri": "https://localhost:8080/"
        },
        "id": "iypR3ydwJfAB",
        "outputId": "95cc715f-9774-4b5c-e250-1f637bd8a435"
      },
      "execution_count": 26,
      "outputs": [
        {
          "output_type": "stream",
          "name": "stdout",
          "text": [
            "sum of array: 10\n",
            "length of array: 4\n",
            "Absolute value: 1234\n",
            "round value: 1\n",
            "Log value: 2.302585092994046\n"
          ]
        }
      ]
    },
    {
      "cell_type": "markdown",
      "source": [
        "#Functions"
      ],
      "metadata": {
        "id": "1iDhsrlVLNE0"
      }
    },
    {
      "cell_type": "code",
      "source": [
        "def area(length,width):\n",
        "    return length*width\n",
        "a = area(10,20)\n",
        "print(\"Area of rectangle:\",a)"
      ],
      "metadata": {
        "colab": {
          "base_uri": "https://localhost:8080/"
        },
        "id": "KCuHO3ypLUw9",
        "outputId": "d79fe1f9-1f91-4a9f-8e10-a746120ef98d"
      },
      "execution_count": 38,
      "outputs": [
        {
          "output_type": "stream",
          "name": "stdout",
          "text": [
            "Area of rectangle: 200\n"
          ]
        }
      ]
    }
  ]
}