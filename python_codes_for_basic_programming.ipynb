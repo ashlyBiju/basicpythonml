{
  "nbformat": 4,
  "nbformat_minor": 0,
  "metadata": {
    "colab": {
      "provenance": [],
      "authorship_tag": "ABX9TyNjP1xZWHsNkBliVa2I79w8",
      "include_colab_link": true
    },
    "kernelspec": {
      "name": "python3",
      "display_name": "Python 3"
    },
    "language_info": {
      "name": "python"
    }
  },
  "cells": [
    {
      "cell_type": "markdown",
      "metadata": {
        "id": "view-in-github",
        "colab_type": "text"
      },
      "source": [
        "<a href=\"https://colab.research.google.com/github/ashlyBiju/basicpythonml/blob/main/python_codes_for_basic_programming.ipynb\" target=\"_parent\"><img src=\"https://colab.research.google.com/assets/colab-badge.svg\" alt=\"Open In Colab\"/></a>"
      ]
    },
    {
      "cell_type": "markdown",
      "source": [
        "# program to find the largest of three numbers"
      ],
      "metadata": {
        "id": "WBiYNuD6AtOM"
      }
    },
    {
      "cell_type": "markdown",
      "source": [
        "- **Step 1:** enter the numbers from the user\n",
        "\n",
        "- **Step 2:**find the largest usimg comditionals if-elif-else\n",
        "\n",
        "- **Step 3:** diplay the numbers\n"
      ],
      "metadata": {
        "id": "5yvujLKBBiFM"
      }
    },
    {
      "cell_type": "code",
      "source": [
        "num1=10\n",
        "num2=15         # predefined inputs\n",
        "num3=16\n",
        "\n",
        "num1 = float(input(\"Enter first number: \"))\n",
        "num2 = float(input(\"Enter second number: \"))  # getting inputs froom user\n",
        "num3 = float(input(\"Enter third number: \"))\n",
        "if (num1 >= num2) and (num1 >= num3):\n",
        "   largest = num1\n",
        "elif (num2 >= num1) and (num2 >= num3):\n",
        "   largest = num2\n",
        "else:\n",
        "   largest = num3\n",
        "print(\"The largest number is\", largest)"
      ],
      "metadata": {
        "id": "dV1d5FB9BBf0"
      },
      "execution_count": null,
      "outputs": []
    },
    {
      "cell_type": "markdown",
      "source": [
        "# printing Multipliaction talbe\n",
        "\n",
        "- **Step 1:** take input from the user to print the table of a no\n",
        "\n",
        "- **Step 2:**Intialise variable i to 1.Set a for loop and itearte 10 times from 1 to 10\n",
        "\n",
        "\n",
        "- **Step 3:**print num*i\n",
        "\n",
        "   \n",
        "\n",
        "  \n",
        "\n"
      ],
      "metadata": {
        "id": "sbcx_lh9C9yz"
      }
    },
    {
      "cell_type": "code",
      "execution_count": null,
      "metadata": {
        "id": "-sl0uPZRAnyx"
      },
      "outputs": [],
      "source": [
        "# To take input from the user\n",
        "num = int(input(\"Display multiplication table of? \"))\n",
        "\n",
        "# Iterate 10 times from i = 1 to 10\n",
        "for i in range(1, 11):\n",
        "   print(i, 'x', num, '=', num*i)"
      ]
    },
    {
      "cell_type": "markdown",
      "source": [
        "- **Step 1:** initialise a variable to 12 to print the table of a no\n",
        "\n",
        "- **Step 2:**Intialise variable i to 1.Set a for loop and itearte 10 times from 1 to 11\n",
        "\n",
        "\n",
        "- **Step 3:**print num*i\n"
      ],
      "metadata": {
        "id": "z3k45f7aFFw8"
      }
    },
    {
      "cell_type": "code",
      "source": [
        "# Multiplication table (from 1 to 10) in Python\n",
        "\n",
        "num = 12\n",
        "\n",
        "# To take input from the user\n",
        "# num = int(input(\"Display multiplication table of? \"))\n",
        "\n",
        "# Iterate 10 times from i = 1 to 10\n",
        "for i in range(1, 11):\n",
        "   print(num, 'x', i, '=', num*i)"
      ],
      "metadata": {
        "id": "hGgyUJX4FipK"
      },
      "execution_count": null,
      "outputs": []
    },
    {
      "cell_type": "markdown",
      "source": [
        "# Check sign of a number\n"
      ],
      "metadata": {
        "id": "n_QAxB75Fm6j"
      }
    },
    {
      "cell_type": "markdown",
      "source": [
        "- **Step 1:** Enter a floating point no from te user\n",
        "\n",
        "- **Step 2:** check whether no is greater than 0 using if-else conditonals.\n",
        "\n",
        "- **Step 3:** If no is greater than 0, print positive no.Else no is less than 0 print negative no..if no equal to 0 print zero"
      ],
      "metadata": {
        "id": "Gvt8BhtfGAJ7"
      }
    },
    {
      "cell_type": "code",
      "source": [
        "num = float(input(\"Enter a number: \"))\n",
        "if num > 0:\n",
        "   print(\"Positive number\")\n",
        "elif num == 0:\n",
        "   print(\"Zero\")\n",
        "else:\n",
        "   print(\"Negative number\")"
      ],
      "metadata": {
        "id": "PSF6NsnaF8zE"
      },
      "execution_count": null,
      "outputs": []
    },
    {
      "cell_type": "markdown",
      "source": [
        "# Find surface area and volume of a cylinder"
      ],
      "metadata": {
        "id": "3EHwIjVUHMfb"
      }
    },
    {
      "cell_type": "markdown",
      "source": [
        "- **Step 1:** Intialise variable pi to 3.14 radius $r$ to 2.6 and height $h$ to 1.6 \n",
        "- **Step 2:** Calculate surface area. $$SA=2\\pi(r+h)$$\n",
        "- **Step 3:** Calculate volume.$$ V=\\pi r^2h$$\n",
        "- **Step 4:** print the surface area and volume."
      ],
      "metadata": {
        "id": "25ZsEUy9HXc7"
      }
    },
    {
      "cell_type": "code",
      "source": [
        "pi=3.14\n",
        "r=2.16\n",
        "h=1.6\n",
        "SA=2*pi*r*(r+h)\n",
        "V=pi*r**2*h\n",
        "print((\"Surface area is{} and volumeis {}\").format(SA,V))"
      ],
      "metadata": {
        "id": "0O9lnzjVHSkT"
      },
      "execution_count": null,
      "outputs": []
    },
    {
      "cell_type": "markdown",
      "source": [
        "# Find area of a circle with radius $r$ using user input"
      ],
      "metadata": {
        "id": "OZYpL_UYKKea"
      }
    },
    {
      "cell_type": "markdown",
      "source": [
        "- **Step 1**: get input $r$ from the user\n",
        "- **Step2**:Calculate area.\n",
        "$$Area=\\pi r^2*h$$\n",
        "-**Step 3:** print area "
      ],
      "metadata": {
        "id": "eRB8X2Y8K_59"
      }
    },
    {
      "cell_type": "code",
      "source": [
        "r=float(input(\"Enter the radius:\"))\n",
        "print(\"Area:\",pi*r**2)\n"
      ],
      "metadata": {
        "id": "xtkgQ_aPKdeb"
      },
      "execution_count": null,
      "outputs": []
    },
    {
      "cell_type": "markdown",
      "source": [
        "# Replapcing a word with another word in sentence"
      ],
      "metadata": {
        "id": "IpJzXOqMMJuq"
      }
    },
    {
      "cell_type": "markdown",
      "source": [
        "- **Step 1:** Enter a string and store it as text.\n",
        "- **Step 2:**Use replace() function to replace a word  in text.\n",
        "Syntax: replace(oldword,newword)"
      ],
      "metadata": {
        "id": "M5iJaRmIMc19"
      }
    },
    {
      "cell_type": "code",
      "source": [
        "# program to replace a word by another word in a sentence\n",
        "\n",
        "text = 'hand ball is a hand full of hands'\n",
        "\n",
        "# replace 'hand' with 'foot'\n",
        "replaced_text = text.replace('hand ', 'foot ')\n",
        "print(replaced_text)"
      ],
      "metadata": {
        "id": "Us4LmKn6MSeT"
      },
      "execution_count": null,
      "outputs": []
    }
  ]
}